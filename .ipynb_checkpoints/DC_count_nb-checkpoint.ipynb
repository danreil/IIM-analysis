{
 "cells": [
  {
   "cell_type": "code",
   "execution_count": 9,
   "metadata": {},
   "outputs": [],
   "source": [
    "import pandas as pd\n",
    "import numpy as np\n",
    "import matplotlib.pyplot as plt\n",
    "import seaborn as sns\n",
    "import os\n"
   ]
  },
  {
   "cell_type": "code",
   "execution_count": 10,
   "metadata": {},
   "outputs": [],
   "source": [
    "def read_DC_excel(path,sheet):\n",
    "    \"\"\"\n",
    "    import DC cell count data into a pandas dataframe.\n",
    "    path is absolute path of the DC data, sheet is the sheet number in excel doc.\n",
    "    return the dataframe\n",
    "    \"\"\"\n",
    "    header_list=[0,1,2]  # which rows to use for multi-index header\n",
    "    index_col=0\n",
    "    DC_df=pd.read_excel(path,sheet,header=header_list,index_col=0)\n",
    "    return DC_df"
   ]
  },
  {
   "cell_type": "code",
   "execution_count": 11,
   "metadata": {},
   "outputs": [],
   "source": [
    "def find_new_name(old_name):\n",
    "    \"\"\"\n",
    "    For renaming columns in the dataframe, returns '14263' from '14263_IBM' for example\n",
    "    just manually returning the first 5 characters\n",
    "    \"\"\"\n",
    "    return old_name[0:5]"
   ]
  },
  {
   "cell_type": "code",
   "execution_count": 12,
   "metadata": {},
   "outputs": [],
   "source": [
    "source_dir=r'C:\\Users\\danre\\Documents\\UChicago\\SciPy_analysis'\n",
    "file_name=r'DC_counts.xlsx'\n",
    "source_path=os.path.join(source_dir,file_name)\n",
    "sheet_num=1"
   ]
  },
  {
   "cell_type": "markdown",
   "metadata": {},
   "source": [
    "Try building multiindex from product in cell below"
   ]
  },
  {
   "cell_type": "code",
   "execution_count": 13,
   "metadata": {},
   "outputs": [],
   "source": [
    "biopsies_num=[14106,13592,13723,15512,14430,13871,14595,13633,14162,14263]\n",
    "Biopsy=[str(item) for item in biopsies_num]\n",
    "Disease=['DM','IBM']\n",
    "Cell_Type=['BDCA2','CD123','DB-B2-123','CD11c','BDCA1','DB-B1-11c']\n",
    "index=pd.MultiIndex.from_product([Biopsy,Disease,Cell_Type])"
   ]
  },
  {
   "cell_type": "code",
   "execution_count": null,
   "metadata": {},
   "outputs": [],
   "source": []
  }
 ],
 "metadata": {
  "kernelspec": {
   "display_name": "Python 3",
   "language": "python",
   "name": "python3"
  },
  "language_info": {
   "codemirror_mode": {
    "name": "ipython",
    "version": 3
   },
   "file_extension": ".py",
   "mimetype": "text/x-python",
   "name": "python",
   "nbconvert_exporter": "python",
   "pygments_lexer": "ipython3",
   "version": "3.7.6"
  }
 },
 "nbformat": 4,
 "nbformat_minor": 4
}
