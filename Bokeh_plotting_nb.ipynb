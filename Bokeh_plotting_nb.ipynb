{
 "cells": [
  {
   "cell_type": "code",
   "execution_count": 1,
   "metadata": {},
   "outputs": [],
   "source": [
    "import pandas as pd\n",
    "import numpy as np\n",
    "import os"
   ]
  },
  {
   "cell_type": "code",
   "execution_count": 2,
   "metadata": {},
   "outputs": [],
   "source": [
    "from bokeh.io import output_file, output_notebook\n",
    "from bokeh.plotting import figure, show\n",
    "from bokeh.models import ColumnDataSource\n",
    "from bokeh.layouts import row, column, gridplot"
   ]
  },
  {
   "cell_type": "code",
   "execution_count": 7,
   "metadata": {},
   "outputs": [],
   "source": [
    "def read_DC_excel(path,sheet):\n",
    "    \"\"\"\n",
    "    import DC cell count data into a pandas dataframe.\n",
    "    path is absolute path of the DC data, sheet is the sheet number in excel doc.\n",
    "    return the dataframe\n",
    "    \"\"\"\n",
    "    header_list=[0,1,2]  # which rows to use for multi-index header\n",
    "    index_col=0\n",
    "    DC_df=pd.read_excel(path,sheet,header=header_list,index_col=0)\n",
    "    return DC_df"
   ]
  },
  {
   "cell_type": "code",
   "execution_count": 8,
   "metadata": {},
   "outputs": [],
   "source": [
    "def find_new_name(old_name):\n",
    "    \"\"\"\n",
    "    For renaming columns in the dataframe, returns '14263' from '14263_IBM' for example\n",
    "    just manually returning the first 5 characters\n",
    "    \"\"\"\n",
    "    return old_name[0:5]"
   ]
  },
  {
   "cell_type": "code",
   "execution_count": 9,
   "metadata": {},
   "outputs": [],
   "source": [
    "source_dir=r'C:\\Users\\danre\\Documents\\UChicago\\SciPy_analysis\\Excel_Files'\n",
    "source_file=r'DC_counts.xlsx'\n",
    "source_path=os.path.join(source_dir,source_file)\n",
    "sheet_num=1\n",
    "DC_df=read_DC_excel(source_path,sheet_num) # read DC counts into a dataframe"
   ]
  },
  {
   "cell_type": "code",
   "execution_count": 10,
   "metadata": {},
   "outputs": [],
   "source": [
    "old_names=[item[0] for item in DC_df.columns]\n",
    "DC_df.rename(columns={old_name:find_new_name(old_name) for old_name in old_names},inplace=True)"
   ]
  },
  {
   "cell_type": "code",
   "execution_count": 11,
   "metadata": {},
   "outputs": [],
   "source": [
    "DC_df_long=DC_df.melt()  # convert to long form\n",
    "DC_df_long.columns=['Biopsy','Disease','Cell Type','Cell Count']  #rename columns"
   ]
  },
  {
   "cell_type": "code",
   "execution_count": 12,
   "metadata": {},
   "outputs": [],
   "source": [
    "DC_df_long_dropna=DC_df_long.dropna() \n",
    "DC_df_long=DC_df_long_dropna.reset_index().drop(columns='index')"
   ]
  },
  {
   "cell_type": "code",
   "execution_count": 13,
   "metadata": {},
   "outputs": [],
   "source": [
    "stats=DC_df.describe()\n",
    "means=stats.loc['mean',:]  #Series object of cell count means for all biopsies and cell types\n",
    "means=means.to_frame()\n",
    "mean_counts_groupby_dis=means.groupby(['Disease','Cell Type']).mean() #cell count means over Disease and Type\n",
    "sem_counts_grouby_dis=means.groupby(['Disease','Cell Type']).sem() #cell count sem's over Disease and Type"
   ]
  },
  {
   "cell_type": "code",
   "execution_count": null,
   "metadata": {},
   "outputs": [],
   "source": []
  }
 ],
 "metadata": {
  "kernelspec": {
   "display_name": "Python 3",
   "language": "python",
   "name": "python3"
  },
  "language_info": {
   "codemirror_mode": {
    "name": "ipython",
    "version": 3
   },
   "file_extension": ".py",
   "mimetype": "text/x-python",
   "name": "python",
   "nbconvert_exporter": "python",
   "pygments_lexer": "ipython3",
   "version": "3.7.6"
  }
 },
 "nbformat": 4,
 "nbformat_minor": 4
}
